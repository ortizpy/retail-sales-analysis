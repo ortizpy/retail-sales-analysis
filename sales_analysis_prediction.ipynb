{
 "cells": [
  {
   "cell_type": "markdown",
   "metadata": {},
   "source": [
    "# Analisis y Prediccion de ventas en una tienda de Retail (CORE)\n",
    "\n",
    "**Introduccion al Proyecto**\n",
    "\n",
    "En este proyecto de curso, desarrollaremos un analisis integral de un conjunto de datos de ventas en una tienda de retail. El objetivo es que los estudiantes apliquen todo lo aprendido en las diferentes secciones del curso, desde la manipulacion basica de datos con NumPy, pasando por el analisis y visualizacion de datos con Pandas, hasta el uso de tecnicas de machine learning para realizar predicciones. Este proyecto sera una excelente adicion al portafolio de los estudiantes y les permitira demostrar su competencia en varias areas claves de la ciencia de datos."
   ]
  },
  {
   "cell_type": "markdown",
   "metadata": {},
   "source": [
    "**Dataset**\n",
    "\n",
    "Para este proyecto, utilizaremos un dataset reciente de Kaggle titulado <<Retail Sales Dataset>> (2023-2024). Este dataset contiene información detallada sobre las ventas diarias de diferentes productos en una tienda. Puedes descargar este dataset desde https://www.kaggle.com/datasets/mohammadtalib786/retail-sales-dataset"
   ]
  },
  {
   "cell_type": "markdown",
   "metadata": {},
   "source": [
    "**Parte 1: Análisis Básico con NumPy**\n",
    "\n",
    "En esta primera parte del proyecto, los estudiantes realizarán un análisis preliminar del dataset utilizando NumPy. El objetivo es familiarizarse con los datos y realizar operaciones básicas de manipulación y análisis."
   ]
  },
  {
   "cell_type": "markdown",
   "metadata": {},
   "source": [
    "**Instrucciones:**\n",
    "\n",
    "1. **Configuración Inicial del Proytecto:**\n",
    "- Crea un repositorio en GitHub para tu proyecto.\n",
    "- Configura dos ramas en tu repositorio: main y development.\n",
    "- Agrega un archivo README.md con una descripción del proyecto, instrucciones de instalación y uso.\n",
    "\n",
    "2. **Carga y Preprocesamiento de Datos:**\n",
    "- Carga los datos del archivo CSV utilizando NumPy.\n",
    "- Realiza un preprocesamiento básico para asegurarte de que los datos estén limpios y listos para su análisis.\n",
    "\n",
    "3. **Exploración de Datos:**\n",
    "- Calcula el total de ventas por categoría de producto.\n",
    "- Calcula el promedio de ventas diarias por categoría de producto.\n",
    "- Identifica las categorías de productos con mayores y menores ventas.\n",
    "\n",
    "4. **Manipulación de Datos:**\n",
    "- Filtra los datos para mostrar solo las ventas de una categoría de prodcuto específica.\n",
    "- Realiza operaciones de suma, resta, multiplicación y división en los datos para obtener estadísticas adicionales."
   ]
  },
  {
   "cell_type": "code",
   "execution_count": 5,
   "metadata": {},
   "outputs": [
    {
     "name": "stdout",
     "output_type": "stream",
     "text": [
      "[[   1.   nan   nan ...    3.   50.  150.]\n",
      " [   2.   nan   nan ...    2.  500. 1000.]\n",
      " [   3.   nan   nan ...    1.   30.   30.]\n",
      " ...\n",
      " [ 998.   nan   nan ...    4.   25.  100.]\n",
      " [ 999.   nan   nan ...    3.   50.  150.]\n",
      " [1000.   nan   nan ...    4.   30.  120.]]\n"
     ]
    }
   ],
   "source": [
    "import numpy as np\n",
    "import pandas as pd\n",
    "\n",
    "def cargar_datos(path):\n",
    "    # Carga los datos del archivo CSV utilizando NumPy\n",
    "    datos = np.genfromtxt(ruta_archivo, delimiter=',', skip_header=1)\n",
    "    return datos\n",
    "\n",
    "ruta_archivo = \"C:/Users/emanu/OneDrive/Escritorio/data science/CodingDojo/BDTML/Proyecto_Retail-Sales-Analysis/retail_sales_dataset.csv\"\n",
    "\n",
    "datos = cargar_datos(ruta_archivo)\n",
    "\n",
    "print(datos)"
   ]
  },
  {
   "cell_type": "markdown",
   "metadata": {},
   "source": [
    "## **Preprocesamiento de Datos**\n",
    "\n",
    "- Preprocesamiento básico para asegurarme de que los registros estén limpios."
   ]
  },
  {
   "cell_type": "code",
   "execution_count": 6,
   "metadata": {},
   "outputs": [
    {
     "name": "stdout",
     "output_type": "stream",
     "text": [
      "[[   1.   nan   nan   nan   34.   nan    3.   50.  150.]\n",
      " [   2.   nan   nan   nan   26.   nan    2.  500. 1000.]\n",
      " [   3.   nan   nan   nan   50.   nan    1.   30.   30.]\n",
      " [   4.   nan   nan   nan   37.   nan    1.  500.  500.]\n",
      " [   5.   nan   nan   nan   30.   nan    2.   50.  100.]]\n"
     ]
    }
   ],
   "source": [
    "# Primero procederé a verificar el contenido del dataset imprimiendo algunas filas\n",
    "print(datos[:5])"
   ]
  },
  {
   "cell_type": "markdown",
   "metadata": {},
   "source": [
    "El primer problema que se observa es que existen varios registros con valores faltantes `nan`, por lo que lo primero que pienso hacer es saber de la magnitud de datos faltantes."
   ]
  },
  {
   "cell_type": "code",
   "execution_count": 7,
   "metadata": {},
   "outputs": [
    {
     "name": "stdout",
     "output_type": "stream",
     "text": [
      "Valores faltantes por columna: [   0 1000 1000 1000    0 1000    0    0    0]\n"
     ]
    }
   ],
   "source": [
    "faltantes = np.isnan(datos).sum(axis=0)\n",
    "print(f\"Valores faltantes por columna: {faltantes}\")"
   ]
  },
  {
   "cell_type": "markdown",
   "metadata": {},
   "source": [
    "Aquí se puede ver que se reportan la cantidad valores nulos pero esto puede tener otra vía de explicación. Es decir, podría darse el caso en que NumPy está tratando de tratarlos como números. Para sacarme las dudas lo convertiré al tipo str y usarlo con Pandas."
   ]
  },
  {
   "cell_type": "code",
   "execution_count": 8,
   "metadata": {},
   "outputs": [
    {
     "name": "stdout",
     "output_type": "stream",
     "text": [
      "     Transaction ID        Date Customer ID  Gender  Age Product Category  \\\n",
      "0                 1  2023-11-24     CUST001    Male   34           Beauty   \n",
      "1                 2  2023-02-27     CUST002  Female   26         Clothing   \n",
      "2                 3  2023-01-13     CUST003    Male   50      Electronics   \n",
      "3                 4  2023-05-21     CUST004    Male   37         Clothing   \n",
      "4                 5  2023-05-06     CUST005    Male   30           Beauty   \n",
      "..              ...         ...         ...     ...  ...              ...   \n",
      "995             996  2023-05-16     CUST996    Male   62         Clothing   \n",
      "996             997  2023-11-17     CUST997    Male   52           Beauty   \n",
      "997             998  2023-10-29     CUST998  Female   23           Beauty   \n",
      "998             999  2023-12-05     CUST999  Female   36      Electronics   \n",
      "999            1000  2023-04-12    CUST1000    Male   47      Electronics   \n",
      "\n",
      "     Quantity  Price per Unit  Total Amount  \n",
      "0           3              50           150  \n",
      "1           2             500          1000  \n",
      "2           1              30            30  \n",
      "3           1             500           500  \n",
      "4           2              50           100  \n",
      "..        ...             ...           ...  \n",
      "995         1              50            50  \n",
      "996         3              30            90  \n",
      "997         4              25           100  \n",
      "998         3              50           150  \n",
      "999         4              30           120  \n",
      "\n",
      "[1000 rows x 9 columns]\n"
     ]
    }
   ],
   "source": [
    "import pandas as pd\n",
    "\n",
    "datos = pd.read_csv(\"C:/Users/emanu/OneDrive/Escritorio/data science/CodingDojo/BDTML/Proyecto_Retail-Sales-Analysis/retail_sales_dataset.csv\")\n",
    "print(datos)\n",
    "x"
   ]
  },
  {
   "cell_type": "markdown",
   "metadata": {},
   "source": [
    "Con esto se puede ver que funciona al manejarlo con pandas.\n",
    "\n",
    "Ya se puede seguir con los siguientes pasos de tratamiento.\n",
    "\n",
    "Filtro el total de ventas para la categoria `\"Product Category\"`"
   ]
  },
  {
   "cell_type": "code",
   "execution_count": 9,
   "metadata": {},
   "outputs": [
    {
     "name": "stdout",
     "output_type": "stream",
     "text": [
      "     Transaction ID        Date Customer ID  Gender  Age Product Category  \\\n",
      "2                 3  2023-01-13     CUST003    Male   50      Electronics   \n",
      "7                 8  2023-02-22     CUST008    Male   30      Electronics   \n",
      "8                 9  2023-12-13     CUST009    Male   63      Electronics   \n",
      "12               13  2023-08-05     CUST013    Male   22      Electronics   \n",
      "14               15  2023-01-16     CUST015  Female   42      Electronics   \n",
      "..              ...         ...         ...     ...  ...              ...   \n",
      "988             989  2023-12-28     CUST989  Female   44      Electronics   \n",
      "991             992  2023-08-21     CUST992  Female   57      Electronics   \n",
      "992             993  2023-02-06     CUST993  Female   48      Electronics   \n",
      "998             999  2023-12-05     CUST999  Female   36      Electronics   \n",
      "999            1000  2023-04-12    CUST1000    Male   47      Electronics   \n",
      "\n",
      "     Quantity  Price per Unit  Total Amount  \n",
      "2           1              30            30  \n",
      "7           4              25           100  \n",
      "8           2             300           600  \n",
      "12          3             500          1500  \n",
      "14          4             500          2000  \n",
      "..        ...             ...           ...  \n",
      "988         1              25            25  \n",
      "991         2              30            60  \n",
      "992         3              50           150  \n",
      "998         3              50           150  \n",
      "999         4              30           120  \n",
      "\n",
      "[342 rows x 9 columns]\n"
     ]
    }
   ],
   "source": [
    "electronic_sales = datos[datos['Product Category'] == 'Electronics']\n",
    "print(electronic_sales)"
   ]
  },
  {
   "cell_type": "markdown",
   "metadata": {},
   "source": [
    "#### Ahora continuando con lo que vendría a ser la exploración de datos, empezaré con asegurarme de que los datos estes categorizados correctamente antes de proceder a realizar otros cálculos. Se puede ver que se tiene 342 filas de datos."
   ]
  },
  {
   "cell_type": "code",
   "execution_count": 10,
   "metadata": {},
   "outputs": [
    {
     "name": "stdout",
     "output_type": "stream",
     "text": [
      "     Transaction ID        Date Customer ID  Gender  Age Product Category  \\\n",
      "2                 3  2023-01-13     CUST003    Male   50      Electronics   \n",
      "7                 8  2023-02-22     CUST008    Male   30      Electronics   \n",
      "8                 9  2023-12-13     CUST009    Male   63      Electronics   \n",
      "12               13  2023-08-05     CUST013    Male   22      Electronics   \n",
      "14               15  2023-01-16     CUST015  Female   42      Electronics   \n",
      "..              ...         ...         ...     ...  ...              ...   \n",
      "988             989  2023-12-28     CUST989  Female   44      Electronics   \n",
      "991             992  2023-08-21     CUST992  Female   57      Electronics   \n",
      "992             993  2023-02-06     CUST993  Female   48      Electronics   \n",
      "998             999  2023-12-05     CUST999  Female   36      Electronics   \n",
      "999            1000  2023-04-12    CUST1000    Male   47      Electronics   \n",
      "\n",
      "     Quantity  Price per Unit  Total Amount  \n",
      "2           1              30            30  \n",
      "7           4              25           100  \n",
      "8           2             300           600  \n",
      "12          3             500          1500  \n",
      "14          4             500          2000  \n",
      "..        ...             ...           ...  \n",
      "988         1              25            25  \n",
      "991         2              30            60  \n",
      "992         3              50           150  \n",
      "998         3              50           150  \n",
      "999         4              30           120  \n",
      "\n",
      "[342 rows x 9 columns]\n"
     ]
    }
   ],
   "source": [
    "electronic_sales = datos[datos[\"Product Category\"] == \"Electronics\"]\n",
    "print(electronic_sales)"
   ]
  },
  {
   "cell_type": "markdown",
   "metadata": {},
   "source": [
    "## Siguiendo el punto `3.`\n",
    "\n",
    "3. **Exploración de Datos:**\n",
    "- Calcula el total de ventas por categoría de producto.\n",
    "- Calcula el promedio de ventas diarias por categoría de producto.\n",
    "- Identifica las categorías de productos con mayores y menores ventas.\n",
    "\n",
    "Voy a trabajar con la primera categoria de productos que sera `Electronics`"
   ]
  },
  {
   "cell_type": "code",
   "execution_count": 11,
   "metadata": {},
   "outputs": [
    {
     "name": "stdout",
     "output_type": "stream",
     "text": [
      "    Product Category  Quantity\n",
      "2        Electronics         1\n",
      "7        Electronics         4\n",
      "8        Electronics         2\n",
      "12       Electronics         3\n",
      "14       Electronics         4\n",
      "..               ...       ...\n",
      "988      Electronics         1\n",
      "991      Electronics         2\n",
      "992      Electronics         3\n",
      "998      Electronics         3\n",
      "999      Electronics         4\n",
      "\n",
      "[342 rows x 2 columns]\n",
      "\n",
      "*******************************\n",
      "Se vendieron 849\n"
     ]
    }
   ],
   "source": [
    "# Voy a calcular el total de ventas de `Electronics`\n",
    "print(electronic_sales[[\"Product Category\", \"Quantity\"]])   # Con este comando se puede visualizar solamente las columnas \"Categoria de Producto\" y \"Cantidad\"\n",
    "\n",
    "# Ahora que filtramos es más sencillo calcular la cantidad de ventas de esta categoría\n",
    "ventas_tot_electronics = electronic_sales[\"Quantity\"].sum()\n",
    "print(f\"\\n*******************************\\nSe vendieron {ventas_tot_electronics}\")"
   ]
  },
  {
   "cell_type": "markdown",
   "metadata": {},
   "source": [
    "#### Continuando con el análisis de `electronic_sales`, ahora calcularé el promedio de ventas diarias.\n",
    "\n",
    "Para realizar el cálculo de ventas por día, hay que entender que tenemos una columna que especifica la fecha de la transacción. Dicho esto, propondré filtrar por grupos de fechas, así saber de cuantos días de ventas estamos hablando."
   ]
  },
  {
   "cell_type": "code",
   "execution_count": 12,
   "metadata": {},
   "outputs": [
    {
     "name": "stdout",
     "output_type": "stream",
     "text": [
      "\n",
      "El promedio de ingresos diarios para la categoria 'Electronics' es: 716.46\n",
      "\n",
      "El promedio de cantidad de ventas diarias para la categoria 'Electronics' es: 3.88\n"
     ]
    }
   ],
   "source": [
    "'''# Primero haré un filtro de la categoría nuevamente.\n",
    "electronic_sales = datos[datos[\"Product Category\"] == \"Electronics\"]\n",
    "\n",
    "# Para evitar problemas con el tipo de dato con el que cuento en la columna \"Date\", cambiaré primeramente su formato.\n",
    "electronic_sales['Date'] = pd.to_datetime(electronic_sales['Date'])     # OJO: el comando pd.to_datetime convierte los datos a un formato de fecha y hora (datetime).\n",
    "\n",
    "# Ahora ya estamos listos para obtener las fechas únicas en la categoría \"Electronics\"\n",
    "fechas_unicas_electronics = electronic_sales['Date'].unique()   # Con el comando .unique() estoy seleccionando datos de fechas únicas.\n",
    "cant_fechas_unicas_electronics = len(fechas_unicas_electronics)\n",
    "\n",
    "print(f\"\\nCantidad de días de ventas de electronics: {cant_fechas_unicas_electronics}\")\n",
    "'''\n",
    "\n",
    "# Aquí ya puedo agrupar fecha y monto vendido por día\n",
    "ventas_por_dia_electronics = electronic_sales.groupby('Date')['Total Amount'].sum()\n",
    "promedio_diario = ventas_por_dia_electronics.mean()\n",
    "print(f\"\\nEl promedio de ingresos diarios para la categoria 'Electronics' es: {promedio_diario:.2f}\")\n",
    "\n",
    "# Y aquí haré un promedio de cantidad de ventas, no incluyendo a lo que refiere en ingresos (una copia del código de arriba)\n",
    "cant_ventas_por_dia_electronics = electronic_sales.groupby('Date')['Quantity'].sum()\n",
    "promedio_diario = cant_ventas_por_dia_electronics.mean()\n",
    "print(f\"\\nEl promedio de cantidad de ventas diarias para la categoria 'Electronics' es: {promedio_diario:.2f}\")"
   ]
  },
  {
   "cell_type": "markdown",
   "metadata": {},
   "source": [
    "#### Continuando con las instrucciones, ahora procedería a identificar los productos más vendidos y los menos vendidos pero esto no es posible porque no existe una categoría de productos propiamente, si podría evaluar el precio por unidad más elevado y el más bajo (que es lo que haré).\n",
    "\n",
    "Para el primer caso me centraré en la misma categoría `electronics`"
   ]
  },
  {
   "cell_type": "code",
   "execution_count": 13,
   "metadata": {},
   "outputs": [
    {
     "name": "stdout",
     "output_type": "stream",
     "text": [
      "Precio por unidad más alto en 'Electronics': 500\n",
      "Precio por unidad más bajo en 'Electronics': 25\n"
     ]
    }
   ],
   "source": [
    "# Primero lo primero, voy a identicar los precio por unidad mas altos y bajos.\n",
    "precio_max_electronics = electronic_sales['Price per Unit'].max()\n",
    "precio_min_electronics = electronic_sales['Price per Unit'].min()\n",
    "\n",
    "print(f\"Precio por unidad más alto en 'Electronics': {precio_max_electronics}\")\n",
    "print(f\"Precio por unidad más bajo en 'Electronics': {precio_min_electronics}\")"
   ]
  },
  {
   "cell_type": "markdown",
   "metadata": {},
   "source": [
    "#### Para culminar con estadísticas adicionales procederé a presentar algunos análisis que creí conveniente.\n",
    "- Diferencia entre el precio más alto y más bajo en `Electronics`\n",
    "- Monto total de ingresos en  `Electronics`"
   ]
  },
  {
   "cell_type": "code",
   "execution_count": 18,
   "metadata": {},
   "outputs": [
    {
     "name": "stdout",
     "output_type": "stream",
     "text": [
      "\n",
      "La diferencia entre el precio max y min en Electronics es de: 475.00\n",
      "El monto del ingreso generado en Electronics es de : 156905.00\n"
     ]
    }
   ],
   "source": [
    "# Voy a calcular la diferencia ya que tengo filtrado el precio por unidad más alto y más bajo\n",
    "diferencia_precios_electronics = precio_max_electronics - precio_min_electronics\n",
    "print(f'\\nLa diferencia entre el precio max y min en Electronics es de: {diferencia_precios_electronics:.2f}')\n",
    "\n",
    "# Ahora para saber el ingreso total generado en Electronics\n",
    "ingreso_total = electronic_sales['Total Amount'].sum()\n",
    "print(f\"El monto del ingreso generado en Electronics es de : {ingreso_total:.2f}\")"
   ]
  },
  {
   "cell_type": "markdown",
   "metadata": {},
   "source": [
    "### Hecho esto, toca replicar en las siguientes categorias para analizarlas por igual y asi notar las diferencias."
   ]
  },
  {
   "cell_type": "code",
   "execution_count": 20,
   "metadata": {},
   "outputs": [
    {
     "name": "stdout",
     "output_type": "stream",
     "text": [
      "     Transaction ID        Date Customer ID  Gender  Age Product Category  \\\n",
      "0                 1  2023-11-24     CUST001    Male   34           Beauty   \n",
      "4                 5  2023-05-06     CUST005    Male   30           Beauty   \n",
      "5                 6  2023-04-25     CUST006  Female   45           Beauty   \n",
      "11               12  2023-10-30     CUST012    Male   35           Beauty   \n",
      "20               21  2023-01-14     CUST021  Female   50           Beauty   \n",
      "..              ...         ...         ...     ...  ...              ...   \n",
      "981             982  2023-12-19     CUST982  Female   46           Beauty   \n",
      "989             990  2023-05-25     CUST990  Female   58           Beauty   \n",
      "993             994  2023-12-18     CUST994  Female   51           Beauty   \n",
      "996             997  2023-11-17     CUST997    Male   52           Beauty   \n",
      "997             998  2023-10-29     CUST998  Female   23           Beauty   \n",
      "\n",
      "     Quantity  Price per Unit  Total Amount  \n",
      "0           3              50           150  \n",
      "4           2              50           100  \n",
      "5           1              30            30  \n",
      "11          3              25            75  \n",
      "20          1             500           500  \n",
      "..        ...             ...           ...  \n",
      "981         3              30            90  \n",
      "989         2             500          1000  \n",
      "993         2             500          1000  \n",
      "996         3              30            90  \n",
      "997         4              25           100  \n",
      "\n",
      "[307 rows x 9 columns]\n"
     ]
    }
   ],
   "source": [
    "# Primeramente voy a filtrar por la categoría \"Beauty\"\n",
    "beauty_sales = datos[datos['Product Category'] == 'Beauty']\n",
    "print(beauty_sales)"
   ]
  },
  {
   "cell_type": "markdown",
   "metadata": {},
   "source": [
    "## Siguiendo el punto `3.`\n",
    "\n",
    "3. **Exploración de Datos:**\n",
    "- Calcula el total de ventas por categoría de producto.\n",
    "- Calcula el promedio de ventas diarias por categoría de producto.\n",
    "- Identifica las categorías de productos con mayores y menores ventas.\n",
    "\n",
    "Voy a trabajar con la primera categoria de productos que sera `Beauty`"
   ]
  },
  {
   "cell_type": "code",
   "execution_count": 29,
   "metadata": {},
   "outputs": [
    {
     "name": "stdout",
     "output_type": "stream",
     "text": [
      "\n",
      "La cantidad total de ventas de 'Beauty' es de: 771\n",
      "El ingreso totale en 'Beauty' es de: 143515.00\n",
      "El promedio de ventas diarias de 'Beauty' es de : 703.50\n",
      "\n",
      "El precio unitario mas alto en 'Beauty' es: 500\n",
      "El precio mas bajo en 'Beauty' es de: 25\n"
     ]
    }
   ],
   "source": [
    "# Ahora voy a calcular el total de ventas de `Beauty`, tanto en el ingreso como en la cantidad de ventas.\n",
    "cant_ventas_beauty = beauty_sales[\"Quantity\"].sum()\n",
    "print(f\"\\nLa cantidad total de ventas de 'Beauty' es de: {cant_ventas_beauty}\")\n",
    "ingresos_total_beauty = beauty_sales[\"Total Amount\"].sum()\n",
    "print(f\"El ingreso totale en 'Beauty' es de: {ingresos_total_beauty:.2f}\")\n",
    "\n",
    "# Ahora el promedio de ventas diarias por categoria (Beauty en este caso)\n",
    "ventas_diarias_beauty = beauty_sales.groupby('Date')['Total Amount'].sum()\n",
    "promedio_diario_beauty = ventas_diarias_beauty.mean()\n",
    "print(f\"El promedio de ventas diarias de 'Beauty' es de : {promedio_diario_beauty:.2f}\")\n",
    "\n",
    "# Ahora identificare los precios unitarios mas altos y mas bajos dentro de esta categoria.\n",
    "precio_max_beauty = beauty_sales['Price per Unit'].max()\n",
    "print(f\"\\nEl precio unitario mas alto en 'Beauty' es: {precio_max_beauty}\")\n",
    "precio_min_beauty = beauty_sales['Price per Unit'].min()\n",
    "print(f\"El precio mas bajo en 'Beauty' es de: {precio_min_beauty}\")"
   ]
  },
  {
   "cell_type": "markdown",
   "metadata": {},
   "source": [
    "**Como se puede observar, es mucho mas sencillo una vez desarrollado el primer analisis y replicarlo en las siguientes categorias.**"
   ]
  }
 ],
 "metadata": {
  "kernelspec": {
   "display_name": "Python 3",
   "language": "python",
   "name": "python3"
  },
  "language_info": {
   "codemirror_mode": {
    "name": "ipython",
    "version": 3
   },
   "file_extension": ".py",
   "mimetype": "text/x-python",
   "name": "python",
   "nbconvert_exporter": "python",
   "pygments_lexer": "ipython3",
   "version": "3.12.4"
  }
 },
 "nbformat": 4,
 "nbformat_minor": 2
}
